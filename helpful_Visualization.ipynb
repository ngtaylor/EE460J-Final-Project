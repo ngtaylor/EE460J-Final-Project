{
  "cells": [
    {
      "cell_type": "markdown",
      "metadata": {
        "colab_type": "text",
        "id": "view-in-github"
      },
      "source": [
        "<a href=\"https://colab.research.google.com/github/ngtaylor/EE460J-Final-Project/blob/main/EE460J_Final_Project.ipynb\" target=\"_parent\"><img src=\"https://colab.research.google.com/assets/colab-badge.svg\" alt=\"Open In Colab\"/></a>"
      ]
    },
    {
      "cell_type": "markdown",
      "metadata": {
        "id": "53olfE8ihX7j"
      },
      "source": [
        "# Sentiment Analysis using BERT\n"
      ]
    },
    {
      "cell_type": "code",
      "execution_count": 1,
      "metadata": {
        "id": "ZZGG9qGZhArN"
      },
      "outputs": [],
      "source": [
        "import pandas as pd\n",
        "import matplotlib.pyplot as plt\n",
        "import matplotlib.pyplot as plt\n"
      ]
    },
    {
      "cell_type": "code",
      "execution_count": 2,
      "metadata": {
        "id": "NhuqEj_yjh40"
      },
      "outputs": [],
      "source": [
        "df = pd.read_csv('data/training.1600000.processed.noemoticon.csv.zip', encoding='latin-1', names=[\"target\", \"id\", \"date\", \"flag\", \"user\", \"text\"])"
      ]
    },
    {
      "cell_type": "code",
      "execution_count": 3,
      "metadata": {},
      "outputs": [
        {
          "data": {
            "text/html": [
              "<div>\n",
              "<style scoped>\n",
              "    .dataframe tbody tr th:only-of-type {\n",
              "        vertical-align: middle;\n",
              "    }\n",
              "\n",
              "    .dataframe tbody tr th {\n",
              "        vertical-align: top;\n",
              "    }\n",
              "\n",
              "    .dataframe thead th {\n",
              "        text-align: right;\n",
              "    }\n",
              "</style>\n",
              "<table border=\"1\" class=\"dataframe\">\n",
              "  <thead>\n",
              "    <tr style=\"text-align: right;\">\n",
              "      <th></th>\n",
              "      <th>target</th>\n",
              "      <th>id</th>\n",
              "      <th>date</th>\n",
              "      <th>user</th>\n",
              "      <th>text</th>\n",
              "    </tr>\n",
              "  </thead>\n",
              "  <tbody>\n",
              "    <tr>\n",
              "      <th>0</th>\n",
              "      <td>0</td>\n",
              "      <td>1467810369</td>\n",
              "      <td>Mon Apr 06 22:19:45 PDT 2009</td>\n",
              "      <td>_TheSpecialOne_</td>\n",
              "      <td>@switchfoot http://twitpic.com/2y1zl - Awww, t...</td>\n",
              "    </tr>\n",
              "    <tr>\n",
              "      <th>1</th>\n",
              "      <td>0</td>\n",
              "      <td>1467810672</td>\n",
              "      <td>Mon Apr 06 22:19:49 PDT 2009</td>\n",
              "      <td>scotthamilton</td>\n",
              "      <td>is upset that he can't update his Facebook by ...</td>\n",
              "    </tr>\n",
              "    <tr>\n",
              "      <th>2</th>\n",
              "      <td>0</td>\n",
              "      <td>1467810917</td>\n",
              "      <td>Mon Apr 06 22:19:53 PDT 2009</td>\n",
              "      <td>mattycus</td>\n",
              "      <td>@Kenichan I dived many times for the ball. Man...</td>\n",
              "    </tr>\n",
              "    <tr>\n",
              "      <th>3</th>\n",
              "      <td>0</td>\n",
              "      <td>1467811184</td>\n",
              "      <td>Mon Apr 06 22:19:57 PDT 2009</td>\n",
              "      <td>ElleCTF</td>\n",
              "      <td>my whole body feels itchy and like its on fire</td>\n",
              "    </tr>\n",
              "    <tr>\n",
              "      <th>4</th>\n",
              "      <td>0</td>\n",
              "      <td>1467811193</td>\n",
              "      <td>Mon Apr 06 22:19:57 PDT 2009</td>\n",
              "      <td>Karoli</td>\n",
              "      <td>@nationwideclass no, it's not behaving at all....</td>\n",
              "    </tr>\n",
              "  </tbody>\n",
              "</table>\n",
              "</div>"
            ],
            "text/plain": [
              "   target          id                          date             user  \\\n",
              "0       0  1467810369  Mon Apr 06 22:19:45 PDT 2009  _TheSpecialOne_   \n",
              "1       0  1467810672  Mon Apr 06 22:19:49 PDT 2009    scotthamilton   \n",
              "2       0  1467810917  Mon Apr 06 22:19:53 PDT 2009         mattycus   \n",
              "3       0  1467811184  Mon Apr 06 22:19:57 PDT 2009          ElleCTF   \n",
              "4       0  1467811193  Mon Apr 06 22:19:57 PDT 2009           Karoli   \n",
              "\n",
              "                                                text  \n",
              "0  @switchfoot http://twitpic.com/2y1zl - Awww, t...  \n",
              "1  is upset that he can't update his Facebook by ...  \n",
              "2  @Kenichan I dived many times for the ball. Man...  \n",
              "3    my whole body feels itchy and like its on fire   \n",
              "4  @nationwideclass no, it's not behaving at all....  "
            ]
          },
          "execution_count": 3,
          "metadata": {},
          "output_type": "execute_result"
        }
      ],
      "source": [
        "#Change positive target value from 4 to 1 and drop flag column since it is useless\n",
        "df[\"target\"] = df[\"target\"].replace({4:1})\n",
        "df = df.drop('flag', axis=1)\n",
        "df.head()"
      ]
    },
    {
      "cell_type": "code",
      "execution_count": 4,
      "metadata": {},
      "outputs": [
        {
          "data": {
            "text/html": [
              "<div>\n",
              "<style scoped>\n",
              "    .dataframe tbody tr th:only-of-type {\n",
              "        vertical-align: middle;\n",
              "    }\n",
              "\n",
              "    .dataframe tbody tr th {\n",
              "        vertical-align: top;\n",
              "    }\n",
              "\n",
              "    .dataframe thead th {\n",
              "        text-align: right;\n",
              "    }\n",
              "</style>\n",
              "<table border=\"1\" class=\"dataframe\">\n",
              "  <thead>\n",
              "    <tr style=\"text-align: right;\">\n",
              "      <th></th>\n",
              "      <th>target</th>\n",
              "      <th>id</th>\n",
              "      <th>date</th>\n",
              "      <th>user</th>\n",
              "      <th>text</th>\n",
              "    </tr>\n",
              "  </thead>\n",
              "  <tbody>\n",
              "    <tr>\n",
              "      <th>425867</th>\n",
              "      <td>0</td>\n",
              "      <td>2063414742</td>\n",
              "      <td>Sun Jun 07 02:33:48 PDT 2009</td>\n",
              "      <td>vipviolet</td>\n",
              "      <td>@elPauloloco hiii I was workingg</td>\n",
              "    </tr>\n",
              "    <tr>\n",
              "      <th>1031711</th>\n",
              "      <td>1</td>\n",
              "      <td>1933097538</td>\n",
              "      <td>Tue May 26 22:59:36 PDT 2009</td>\n",
              "      <td>Paqmane</td>\n",
              "      <td>You knew just what to say tonight ..</td>\n",
              "    </tr>\n",
              "    <tr>\n",
              "      <th>840003</th>\n",
              "      <td>1</td>\n",
              "      <td>1559611200</td>\n",
              "      <td>Sun Apr 19 11:35:38 PDT 2009</td>\n",
              "      <td>ohsnapspanky</td>\n",
              "      <td>making brownies</td>\n",
              "    </tr>\n",
              "    <tr>\n",
              "      <th>1360966</th>\n",
              "      <td>1</td>\n",
              "      <td>2048924625</td>\n",
              "      <td>Fri Jun 05 16:00:11 PDT 2009</td>\n",
              "      <td>jfraziertn</td>\n",
              "      <td>@shelbilavender   never too late.  But sometim...</td>\n",
              "    </tr>\n",
              "    <tr>\n",
              "      <th>1081224</th>\n",
              "      <td>1</td>\n",
              "      <td>1968431780</td>\n",
              "      <td>Fri May 29 21:25:29 PDT 2009</td>\n",
              "      <td>juicyjesso</td>\n",
              "      <td>@hellaMiles HAHAH I love that movie. Have a go...</td>\n",
              "    </tr>\n",
              "  </tbody>\n",
              "</table>\n",
              "</div>"
            ],
            "text/plain": [
              "         target          id                          date          user  \\\n",
              "425867        0  2063414742  Sun Jun 07 02:33:48 PDT 2009     vipviolet   \n",
              "1031711       1  1933097538  Tue May 26 22:59:36 PDT 2009       Paqmane   \n",
              "840003        1  1559611200  Sun Apr 19 11:35:38 PDT 2009  ohsnapspanky   \n",
              "1360966       1  2048924625  Fri Jun 05 16:00:11 PDT 2009    jfraziertn   \n",
              "1081224       1  1968431780  Fri May 29 21:25:29 PDT 2009    juicyjesso   \n",
              "\n",
              "                                                      text  \n",
              "425867                   @elPauloloco hiii I was workingg   \n",
              "1031711              You knew just what to say tonight ..   \n",
              "840003                                    making brownies   \n",
              "1360966  @shelbilavender   never too late.  But sometim...  \n",
              "1081224  @hellaMiles HAHAH I love that movie. Have a go...  "
            ]
          },
          "execution_count": 4,
          "metadata": {},
          "output_type": "execute_result"
        }
      ],
      "source": [
        "#Shuffle values since they were ordered by target value\n",
        "df = df.sample(frac = 1)\n",
        "df.head()"
      ]
    },
    {
      "cell_type": "code",
      "execution_count": 5,
      "metadata": {},
      "outputs": [],
      "source": [
        "df['date'] = pd.to_datetime(df['date'], format='%a %b %d %H:%M:%S PDT %Y')"
      ]
    },
    {
      "cell_type": "code",
      "execution_count": 6,
      "metadata": {},
      "outputs": [
        {
          "data": {
            "text/plain": [
              "target             int64\n",
              "id                 int64\n",
              "date      datetime64[ns]\n",
              "user              object\n",
              "text              object\n",
              "dtype: object"
            ]
          },
          "execution_count": 6,
          "metadata": {},
          "output_type": "execute_result"
        }
      ],
      "source": [
        "df.dtypes"
      ]
    },
    {
      "cell_type": "code",
      "execution_count": 7,
      "metadata": {},
      "outputs": [],
      "source": [
        "df['time'] =  pd.to_datetime(df['date'], format='%a %b %d %H:%M:%S PDT %Y').dt.strftime('%H:%M:%S')\n",
        "df['weekday'] = pd.to_datetime(df['date'], format='%a %b %d %H:%M:%S PDT %Y').dt.weekday\n",
        "df['day'] = pd.to_datetime(df['date'], format='%a %b %d %H:%M:%S PDT %Y').dt.day\n",
        "df['month'] = pd.to_datetime(df['date'], format='%a %b %d %H:%M:%S PDT %Y').dt.month\n",
        "df['year'] = pd.to_datetime(df['date'], format='%a %b %d %H:%M:%S PDT %Y').dt.year"
      ]
    },
    {
      "cell_type": "code",
      "execution_count": 8,
      "metadata": {},
      "outputs": [
        {
          "data": {
            "text/html": [
              "<div>\n",
              "<style scoped>\n",
              "    .dataframe tbody tr th:only-of-type {\n",
              "        vertical-align: middle;\n",
              "    }\n",
              "\n",
              "    .dataframe tbody tr th {\n",
              "        vertical-align: top;\n",
              "    }\n",
              "\n",
              "    .dataframe thead th {\n",
              "        text-align: right;\n",
              "    }\n",
              "</style>\n",
              "<table border=\"1\" class=\"dataframe\">\n",
              "  <thead>\n",
              "    <tr style=\"text-align: right;\">\n",
              "      <th></th>\n",
              "      <th>target</th>\n",
              "      <th>id</th>\n",
              "      <th>date</th>\n",
              "      <th>user</th>\n",
              "      <th>text</th>\n",
              "      <th>time</th>\n",
              "      <th>weekday</th>\n",
              "      <th>day</th>\n",
              "      <th>month</th>\n",
              "      <th>year</th>\n",
              "    </tr>\n",
              "  </thead>\n",
              "  <tbody>\n",
              "    <tr>\n",
              "      <th>425867</th>\n",
              "      <td>0</td>\n",
              "      <td>2063414742</td>\n",
              "      <td>2009-06-07 02:33:48</td>\n",
              "      <td>vipviolet</td>\n",
              "      <td>@elPauloloco hiii I was workingg</td>\n",
              "      <td>02:33:48</td>\n",
              "      <td>6</td>\n",
              "      <td>7</td>\n",
              "      <td>6</td>\n",
              "      <td>2009</td>\n",
              "    </tr>\n",
              "    <tr>\n",
              "      <th>1031711</th>\n",
              "      <td>1</td>\n",
              "      <td>1933097538</td>\n",
              "      <td>2009-05-26 22:59:36</td>\n",
              "      <td>Paqmane</td>\n",
              "      <td>You knew just what to say tonight ..</td>\n",
              "      <td>22:59:36</td>\n",
              "      <td>1</td>\n",
              "      <td>26</td>\n",
              "      <td>5</td>\n",
              "      <td>2009</td>\n",
              "    </tr>\n",
              "    <tr>\n",
              "      <th>840003</th>\n",
              "      <td>1</td>\n",
              "      <td>1559611200</td>\n",
              "      <td>2009-04-19 11:35:38</td>\n",
              "      <td>ohsnapspanky</td>\n",
              "      <td>making brownies</td>\n",
              "      <td>11:35:38</td>\n",
              "      <td>6</td>\n",
              "      <td>19</td>\n",
              "      <td>4</td>\n",
              "      <td>2009</td>\n",
              "    </tr>\n",
              "    <tr>\n",
              "      <th>1360966</th>\n",
              "      <td>1</td>\n",
              "      <td>2048924625</td>\n",
              "      <td>2009-06-05 16:00:11</td>\n",
              "      <td>jfraziertn</td>\n",
              "      <td>@shelbilavender   never too late.  But sometim...</td>\n",
              "      <td>16:00:11</td>\n",
              "      <td>4</td>\n",
              "      <td>5</td>\n",
              "      <td>6</td>\n",
              "      <td>2009</td>\n",
              "    </tr>\n",
              "    <tr>\n",
              "      <th>1081224</th>\n",
              "      <td>1</td>\n",
              "      <td>1968431780</td>\n",
              "      <td>2009-05-29 21:25:29</td>\n",
              "      <td>juicyjesso</td>\n",
              "      <td>@hellaMiles HAHAH I love that movie. Have a go...</td>\n",
              "      <td>21:25:29</td>\n",
              "      <td>4</td>\n",
              "      <td>29</td>\n",
              "      <td>5</td>\n",
              "      <td>2009</td>\n",
              "    </tr>\n",
              "  </tbody>\n",
              "</table>\n",
              "</div>"
            ],
            "text/plain": [
              "         target          id                date          user  \\\n",
              "425867        0  2063414742 2009-06-07 02:33:48     vipviolet   \n",
              "1031711       1  1933097538 2009-05-26 22:59:36       Paqmane   \n",
              "840003        1  1559611200 2009-04-19 11:35:38  ohsnapspanky   \n",
              "1360966       1  2048924625 2009-06-05 16:00:11    jfraziertn   \n",
              "1081224       1  1968431780 2009-05-29 21:25:29    juicyjesso   \n",
              "\n",
              "                                                      text      time  weekday  \\\n",
              "425867                   @elPauloloco hiii I was workingg   02:33:48        6   \n",
              "1031711              You knew just what to say tonight ..   22:59:36        1   \n",
              "840003                                    making brownies   11:35:38        6   \n",
              "1360966  @shelbilavender   never too late.  But sometim...  16:00:11        4   \n",
              "1081224  @hellaMiles HAHAH I love that movie. Have a go...  21:25:29        4   \n",
              "\n",
              "         day  month  year  \n",
              "425867     7      6  2009  \n",
              "1031711   26      5  2009  \n",
              "840003    19      4  2009  \n",
              "1360966    5      6  2009  \n",
              "1081224   29      5  2009  "
            ]
          },
          "execution_count": 8,
          "metadata": {},
          "output_type": "execute_result"
        }
      ],
      "source": [
        "df.head()"
      ]
    },
    {
      "cell_type": "code",
      "execution_count": 9,
      "metadata": {},
      "outputs": [
        {
          "data": {
            "text/plain": [
              "target              int64\n",
              "id                  int64\n",
              "date       datetime64[ns]\n",
              "user               object\n",
              "text               object\n",
              "time               object\n",
              "weekday             int64\n",
              "day                 int64\n",
              "month               int64\n",
              "year                int64\n",
              "dtype: object"
            ]
          },
          "execution_count": 9,
          "metadata": {},
          "output_type": "execute_result"
        }
      ],
      "source": [
        "df.dtypes"
      ]
    },
    {
      "cell_type": "code",
      "execution_count": 10,
      "metadata": {},
      "outputs": [
        {
          "data": {
            "text/plain": [
              "425867     02:33:48\n",
              "1031711    22:59:36\n",
              "840003     11:35:38\n",
              "1360966    16:00:11\n",
              "1081224    21:25:29\n",
              "             ...   \n",
              "878436     23:34:41\n",
              "408830     17:03:17\n",
              "782859     01:26:05\n",
              "1411028    11:03:31\n",
              "939018     03:16:50\n",
              "Name: time, Length: 1600000, dtype: object"
            ]
          },
          "execution_count": 10,
          "metadata": {},
          "output_type": "execute_result"
        }
      ],
      "source": [
        "df['time'].astype(str)"
      ]
    },
    {
      "cell_type": "code",
      "execution_count": 11,
      "metadata": {},
      "outputs": [
        {
          "data": {
            "text/html": [
              "<div>\n",
              "<style scoped>\n",
              "    .dataframe tbody tr th:only-of-type {\n",
              "        vertical-align: middle;\n",
              "    }\n",
              "\n",
              "    .dataframe tbody tr th {\n",
              "        vertical-align: top;\n",
              "    }\n",
              "\n",
              "    .dataframe thead th {\n",
              "        text-align: right;\n",
              "    }\n",
              "</style>\n",
              "<table border=\"1\" class=\"dataframe\">\n",
              "  <thead>\n",
              "    <tr style=\"text-align: right;\">\n",
              "      <th></th>\n",
              "      <th>target</th>\n",
              "      <th>date</th>\n",
              "      <th>hour</th>\n",
              "      <th>doy</th>\n",
              "      <th>month</th>\n",
              "      <th>dow</th>\n",
              "    </tr>\n",
              "  </thead>\n",
              "  <tbody>\n",
              "    <tr>\n",
              "      <th>425867</th>\n",
              "      <td>0</td>\n",
              "      <td>2009-06-07 02:33:48</td>\n",
              "      <td>2</td>\n",
              "      <td>158</td>\n",
              "      <td>6</td>\n",
              "      <td>6</td>\n",
              "    </tr>\n",
              "    <tr>\n",
              "      <th>1031711</th>\n",
              "      <td>1</td>\n",
              "      <td>2009-05-26 22:59:36</td>\n",
              "      <td>22</td>\n",
              "      <td>146</td>\n",
              "      <td>5</td>\n",
              "      <td>1</td>\n",
              "    </tr>\n",
              "    <tr>\n",
              "      <th>840003</th>\n",
              "      <td>1</td>\n",
              "      <td>2009-04-19 11:35:38</td>\n",
              "      <td>11</td>\n",
              "      <td>109</td>\n",
              "      <td>4</td>\n",
              "      <td>6</td>\n",
              "    </tr>\n",
              "    <tr>\n",
              "      <th>1360966</th>\n",
              "      <td>1</td>\n",
              "      <td>2009-06-05 16:00:11</td>\n",
              "      <td>16</td>\n",
              "      <td>156</td>\n",
              "      <td>6</td>\n",
              "      <td>4</td>\n",
              "    </tr>\n",
              "    <tr>\n",
              "      <th>1081224</th>\n",
              "      <td>1</td>\n",
              "      <td>2009-05-29 21:25:29</td>\n",
              "      <td>21</td>\n",
              "      <td>149</td>\n",
              "      <td>5</td>\n",
              "      <td>4</td>\n",
              "    </tr>\n",
              "  </tbody>\n",
              "</table>\n",
              "</div>"
            ],
            "text/plain": [
              "         target                date  hour  doy  month  dow\n",
              "425867        0 2009-06-07 02:33:48     2  158      6    6\n",
              "1031711       1 2009-05-26 22:59:36    22  146      5    1\n",
              "840003        1 2009-04-19 11:35:38    11  109      4    6\n",
              "1360966       1 2009-06-05 16:00:11    16  156      6    4\n",
              "1081224       1 2009-05-29 21:25:29    21  149      5    4"
            ]
          },
          "execution_count": 11,
          "metadata": {},
          "output_type": "execute_result"
        }
      ],
      "source": [
        "df_date = df.copy()[['target', 'date']]\n",
        "df_date['hour'] = pd.to_datetime(df_date['date'], format='%a %b %d %H:%M:%S PDT %Y').dt.hour\n",
        "df_date['doy'] = pd.to_datetime(df_date['date'], format='%a %b %d %H:%M:%S PDT %Y').dt.dayofyear\n",
        "df_date['month'] = pd.to_datetime(df_date['date'], format='%a %b %d %H:%M:%S PDT %Y').dt.month\n",
        "df_date['dow'] = pd.to_datetime(df_date['date'], format='%a %b %d %H:%M:%S PDT %Y').dt.dayofweek\n",
        "\n",
        "df_date.head()"
      ]
    },
    {
      "cell_type": "code",
      "execution_count": 12,
      "metadata": {},
      "outputs": [],
      "source": [
        "temporal_hour = pd.pivot_table(df_date, index='target', columns='hour', aggfunc='size', fill_value=0)"
      ]
    },
    {
      "cell_type": "code",
      "execution_count": 13,
      "metadata": {},
      "outputs": [
        {
          "data": {
            "image/png": "[encoded data removed]",
            "text/plain": [
              "<Figure size 432x288 with 1 Axes>"
            ]
          },
          "metadata": {
            "needs_background": "light"
          },
          "output_type": "display_data"
        }
      ],
      "source": [
        "labels = df_date.hour.drop_duplicates()\n",
        "labels = labels.sort_values()\n",
        "plt.plot(labels, temporal_hour.transpose()[1], color = 'blue', label = 'Positive Tweets')\n",
        "plt.plot(labels, temporal_hour.transpose()[0], color = 'red', label = 'Negative Tweets')\n",
        "plt.xlabel('Hour')\n",
        "plt.ylabel('Number of Tweets')\n",
        "plt.title('Positive vs Negative Tweets per Hour')\n",
        "plt.legend()\n",
        "plt.show()"
      ]
    },
    {
      "cell_type": "code",
      "execution_count": 14,
      "metadata": {},
      "outputs": [],
      "source": [
        "temporal_day = pd.pivot_table(df_date, index='target', columns='doy', aggfunc='size', fill_value=0)"
      ]
    },
    {
      "cell_type": "code",
      "execution_count": 15,
      "metadata": {},
      "outputs": [
        {
          "data": {
            "image/png": "[encoded data removed]",
            "text/plain": [
              "<Figure size 432x288 with 1 Axes>"
            ]
          },
          "metadata": {
            "needs_background": "light"
          },
          "output_type": "display_data"
        }
      ],
      "source": [
        "labels = df_date.doy.drop_duplicates()\n",
        "labels = labels.sort_values()\n",
        "plt.plot(labels, temporal_day.transpose()[1], color = 'blue', label = 'Positive Tweets')\n",
        "plt.plot(labels, temporal_day.transpose()[0], color = 'red', label = 'Negative Tweets')\n",
        "plt.plot(labels, temporal_day.transpose()[1] + temporal_day.transpose()[0], color = 'darkorange', label = 'Total Tweets')\n",
        "plt.xlabel('Day of Year')\n",
        "plt.ylabel('Number of Tweets')\n",
        "plt.title('Positive vs Negative Tweets per Day of Year')\n",
        "plt.legend()\n",
        "plt.show()"
      ]
    },
    {
      "cell_type": "code",
      "execution_count": 16,
      "metadata": {},
      "outputs": [
        {
          "data": {
            "image/png": "[encoded data removed]",
            "text/plain": [
              "<Figure size 432x288 with 1 Axes>"
            ]
          },
          "metadata": {
            "needs_background": "light"
          },
          "output_type": "display_data"
        }
      ],
      "source": [
        "temporal_day = pd.pivot_table(df_date, index='target', columns='dow', aggfunc='size', fill_value=0)\n",
        "labels = [\"Mon\", \"Tues\", \"Wed\", \"Thurs\", \"Fri\", \"Sat\", \"Sun\"]\n",
        "plt.plot(labels, temporal_day.transpose()[1], color = 'blue', label = 'Positive Tweets')\n",
        "plt.plot(labels, temporal_day.transpose()[0], color = 'red', label = 'Negative Tweets')\n",
        "plt.xlabel('Day of Week')\n",
        "plt.ylabel('Number of Tweets')\n",
        "plt.title('Positive vs Negative Tweets per Day of the Week')\n",
        "plt.legend()\n",
        "plt.show()"
      ]
    },
    {
      "cell_type": "code",
      "execution_count": 17,
      "metadata": {},
      "outputs": [],
      "source": [
        "df_text = df.copy()[['target', 'text']]"
      ]
    },
    {
      "cell_type": "code",
      "execution_count": 18,
      "metadata": {},
      "outputs": [
        {
          "data": {
            "text/html": [
              "<div>\n",
              "<style scoped>\n",
              "    .dataframe tbody tr th:only-of-type {\n",
              "        vertical-align: middle;\n",
              "    }\n",
              "\n",
              "    .dataframe tbody tr th {\n",
              "        vertical-align: top;\n",
              "    }\n",
              "\n",
              "    .dataframe thead th {\n",
              "        text-align: right;\n",
              "    }\n",
              "</style>\n",
              "<table border=\"1\" class=\"dataframe\">\n",
              "  <thead>\n",
              "    <tr style=\"text-align: right;\">\n",
              "      <th></th>\n",
              "      <th>target</th>\n",
              "      <th>text</th>\n",
              "      <th>len</th>\n",
              "    </tr>\n",
              "  </thead>\n",
              "  <tbody>\n",
              "    <tr>\n",
              "      <th>425867</th>\n",
              "      <td>0</td>\n",
              "      <td>@elPauloloco hiii I was workingg</td>\n",
              "      <td>33</td>\n",
              "    </tr>\n",
              "    <tr>\n",
              "      <th>1031711</th>\n",
              "      <td>1</td>\n",
              "      <td>You knew just what to say tonight ..</td>\n",
              "      <td>37</td>\n",
              "    </tr>\n",
              "    <tr>\n",
              "      <th>840003</th>\n",
              "      <td>1</td>\n",
              "      <td>making brownies</td>\n",
              "      <td>16</td>\n",
              "    </tr>\n",
              "    <tr>\n",
              "      <th>1360966</th>\n",
              "      <td>1</td>\n",
              "      <td>@shelbilavender   never too late.  But sometim...</td>\n",
              "      <td>95</td>\n",
              "    </tr>\n",
              "    <tr>\n",
              "      <th>1081224</th>\n",
              "      <td>1</td>\n",
              "      <td>@hellaMiles HAHAH I love that movie. Have a go...</td>\n",
              "      <td>86</td>\n",
              "    </tr>\n",
              "  </tbody>\n",
              "</table>\n",
              "</div>"
            ],
            "text/plain": [
              "         target                                               text  len\n",
              "425867        0                  @elPauloloco hiii I was workingg    33\n",
              "1031711       1              You knew just what to say tonight ..    37\n",
              "840003        1                                   making brownies    16\n",
              "1360966       1  @shelbilavender   never too late.  But sometim...   95\n",
              "1081224       1  @hellaMiles HAHAH I love that movie. Have a go...   86"
            ]
          },
          "execution_count": 18,
          "metadata": {},
          "output_type": "execute_result"
        }
      ],
      "source": [
        "df_text['len'] = df['text'].apply(len)\n",
        "df_text.head()"
      ]
    },
    {
      "cell_type": "code",
      "execution_count": 19,
      "metadata": {},
      "outputs": [
        {
          "data": {
            "image/png": "[encoded data removed]",
            "text/plain": [
              "<Figure size 432x288 with 1 Axes>"
            ]
          },
          "metadata": {
            "needs_background": "light"
          },
          "output_type": "display_data"
        }
      ],
      "source": [
        "labels = df_text.len.drop_duplicates()\n",
        "labels = labels.sort_values()\n",
        "temporal_len = pd.pivot_table(df_text, index='target', columns='len', aggfunc='size', fill_value=0)\n",
        "plt.plot(labels, temporal_len.transpose()[1], color = 'blue', label = 'Positive Tweets')\n",
        "plt.plot(labels, temporal_len.transpose()[0], color = 'red', label = 'Negative Tweets')\n",
        "plt.xlabel('Character Length of Tweet')\n",
        "plt.ylabel('Number of Tweets')\n",
        "plt.title('Positive vs Negative Tweets compared to Length of Tweet')\n",
        "plt.legend()\n",
        "plt.show()"
      ]
    }
  ],
  "metadata": {
    "colab": {
      "collapsed_sections": [],
      "include_colab_link": true,
      "name": "EE460J_Final_Project.ipynb",
      "provenance": []
    },
    "kernelspec": {
      "display_name": "Python 3",
      "name": "python3"
    },
    "language_info": {
      "codemirror_mode": {
        "name": "ipython",
        "version": 3
      },
      "file_extension": ".py",
      "mimetype": "text/x-python",
      "name": "python",
      "nbconvert_exporter": "python",
      "pygments_lexer": "ipython3",
      "version": "3.8.11"
    }
  },
  "nbformat": 4,
  "nbformat_minor": 0
}
